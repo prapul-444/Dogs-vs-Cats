{
 "cells": [
  {
   "cell_type": "code",
   "execution_count": 1,
   "metadata": {},
   "outputs": [
    {
     "name": "stderr",
     "output_type": "stream",
     "text": [
      "Using TensorFlow backend.\n"
     ]
    }
   ],
   "source": [
    "import os\n",
    "import numpy as np\n",
    "from keras.models import Sequential\n",
    "from keras.layers import Activation, Dropout, Flatten, Dense\n",
    "from keras.preprocessing.image import ImageDataGenerator\n",
    "from keras.layers import Convolution2D, MaxPooling2D, ZeroPadding2D\n",
    "from keras import optimizers"
   ]
  },
  {
   "cell_type": "code",
   "execution_count": 5,
   "metadata": {},
   "outputs": [],
   "source": []
  },
  {
   "cell_type": "code",
   "execution_count": 2,
   "metadata": {},
   "outputs": [
    {
     "name": "stdout",
     "output_type": "stream",
     "text": [
      "Found 2131 images belonging to 2 classes.\n",
      "Found 2248 images belonging to 2 classes.\n"
     ]
    }
   ],
   "source": [
    "img_width,img_height=150,150\n",
    "training_data='C:\\\\Users\\\\prapul\\\\Desktop\\\\cnn models\\\\train1'\n",
    "valid_data='C:\\\\Users\\\\prapul\\\\Desktop\\\\cnn models\\\\Valid'\n",
    "\n",
    "\n",
    "datagen=ImageDataGenerator(rescale=1./255)\n",
    "train=datagen.flow_from_directory(training_data,target_size=(img_width,img_height),batch_size=16,class_mode='binary')\n",
    "valid=datagen.flow_from_directory(valid_data,target_size=(img_width,img_height),batch_size=32,class_mode='binary')"
   ]
  },
  {
   "cell_type": "code",
   "execution_count": 3,
   "metadata": {},
   "outputs": [
    {
     "name": "stderr",
     "output_type": "stream",
     "text": [
      "C:\\Users\\prapul\\AppData\\Local\\conda\\conda\\envs\\prapul\\lib\\site-packages\\ipykernel_launcher.py:2: UserWarning: Update your `Conv2D` call to the Keras 2 API: `Conv2D(32, (3, 3), input_shape=(150, 150,...)`\n",
      "  \n",
      "C:\\Users\\prapul\\AppData\\Local\\conda\\conda\\envs\\prapul\\lib\\site-packages\\ipykernel_launcher.py:6: UserWarning: Update your `Conv2D` call to the Keras 2 API: `Conv2D(32, (3, 3))`\n",
      "  \n",
      "C:\\Users\\prapul\\AppData\\Local\\conda\\conda\\envs\\prapul\\lib\\site-packages\\ipykernel_launcher.py:10: UserWarning: Update your `Conv2D` call to the Keras 2 API: `Conv2D(64, (3, 3))`\n",
      "  # Remove the CWD from sys.path while we load stuff.\n"
     ]
    }
   ],
   "source": [
    "model = Sequential()\n",
    "model.add(Convolution2D(32, 3, 3, input_shape=(img_width, img_height,3)))\n",
    "model.add(Activation('relu'))\n",
    "model.add(MaxPooling2D(pool_size=(2, 2)))\n",
    "\n",
    "model.add(Convolution2D(32, 3, 3))\n",
    "model.add(Activation('relu'))\n",
    "model.add(MaxPooling2D(pool_size=(2, 2)))\n",
    "\n",
    "model.add(Convolution2D(64, 3, 3))\n",
    "model.add(Activation('relu'))\n",
    "model.add(MaxPooling2D(pool_size=(2, 2)))\n",
    "\n",
    "model.add(Flatten())\n",
    "model.add(Dense(64))\n",
    "model.add(Activation('relu'))\n",
    "model.add(Dropout(0.5))\n",
    "model.add(Dense(1))\n",
    "model.add(Activation('sigmoid'))"
   ]
  },
  {
   "cell_type": "code",
   "execution_count": 4,
   "metadata": {},
   "outputs": [],
   "source": [
    "model.compile(loss='binary_crossentropy',\n",
    "              optimizer='rmsprop',\n",
    "              metrics=['accuracy'])"
   ]
  },
  {
   "cell_type": "code",
   "execution_count": 7,
   "metadata": {
    "scrolled": false
   },
   "outputs": [
    {
     "name": "stderr",
     "output_type": "stream",
     "text": [
      "C:\\Users\\prapul\\AppData\\Local\\conda\\conda\\envs\\prapul\\lib\\site-packages\\ipykernel_launcher.py:9: UserWarning: The semantics of the Keras 2 argument `steps_per_epoch` is not the same as the Keras 1 argument `samples_per_epoch`. `steps_per_epoch` is the number of batches to draw from the generator at each epoch. Basically steps_per_epoch = samples_per_epoch/batch_size. Similarly `nb_val_samples`->`validation_steps` and `val_samples`->`steps` arguments have changed. Update your method calls accordingly.\n",
      "  if __name__ == '__main__':\n",
      "C:\\Users\\prapul\\AppData\\Local\\conda\\conda\\envs\\prapul\\lib\\site-packages\\ipykernel_launcher.py:9: UserWarning: Update your `fit_generator` call to the Keras 2 API: `fit_generator(<keras_pre..., validation_data=<keras_pre..., steps_per_epoch=133, epochs=30, validation_steps=70)`\n",
      "  if __name__ == '__main__':\n"
     ]
    },
    {
     "name": "stdout",
     "output_type": "stream",
     "text": [
      "Epoch 1/30\n",
      "133/133 [==============================] - 102s 764ms/step - loss: 0.7275 - acc: 0.5188 - val_loss: 0.6783 - val_acc: 0.6121\n",
      "Epoch 2/30\n",
      "133/133 [==============================] - 100s 754ms/step - loss: 0.6683 - acc: 0.6181 - val_loss: 0.6423 - val_acc: 0.6390\n",
      "Epoch 3/30\n",
      "133/133 [==============================] - 100s 753ms/step - loss: 0.6106 - acc: 0.6959 - val_loss: 0.5965 - val_acc: 0.6701\n",
      "Epoch 4/30\n",
      "133/133 [==============================] - 96s 719ms/step - loss: 0.5399 - acc: 0.7458 - val_loss: 0.5621 - val_acc: 0.7202\n",
      "Epoch 5/30\n",
      "133/133 [==============================] - 96s 720ms/step - loss: 0.4927 - acc: 0.7735 - val_loss: 0.5953 - val_acc: 0.7080\n",
      "Epoch 6/30\n",
      "133/133 [==============================] - 101s 760ms/step - loss: 0.4551 - acc: 0.7913 - val_loss: 0.5601 - val_acc: 0.7247\n",
      "Epoch 7/30\n",
      "133/133 [==============================] - 118s 885ms/step - loss: 0.3909 - acc: 0.8365 - val_loss: 0.5774 - val_acc: 0.7306\n",
      "Epoch 8/30\n",
      "133/133 [==============================] - 103s 776ms/step - loss: 0.3491 - acc: 0.8515 - val_loss: 0.6152 - val_acc: 0.7234\n",
      "Epoch 9/30\n",
      "133/133 [==============================] - 100s 751ms/step - loss: 0.2898 - acc: 0.8806 - val_loss: 0.6484 - val_acc: 0.7243\n",
      "Epoch 10/30\n",
      "133/133 [==============================] - 100s 751ms/step - loss: 0.2319 - acc: 0.8971 - val_loss: 0.7960 - val_acc: 0.7274\n",
      "Epoch 11/30\n",
      "133/133 [==============================] - 96s 724ms/step - loss: 0.2183 - acc: 0.9092 - val_loss: 0.7255 - val_acc: 0.7310\n",
      "Epoch 12/30\n",
      "133/133 [==============================] - 96s 720ms/step - loss: 0.1542 - acc: 0.9427 - val_loss: 0.8627 - val_acc: 0.6968\n",
      "Epoch 13/30\n",
      "133/133 [==============================] - 95s 717ms/step - loss: 0.1531 - acc: 0.9413 - val_loss: 1.1986 - val_acc: 0.7216\n",
      "Epoch 14/30\n",
      "133/133 [==============================] - 121s 913ms/step - loss: 0.1208 - acc: 0.9572 - val_loss: 1.3240 - val_acc: 0.7098\n",
      "Epoch 15/30\n",
      "133/133 [==============================] - 148s 1s/step - loss: 0.1131 - acc: 0.9610 - val_loss: 1.2019 - val_acc: 0.7198\n",
      "Epoch 16/30\n",
      "133/133 [==============================] - 406s 3s/step - loss: 0.1022 - acc: 0.9648 - val_loss: 1.2638 - val_acc: 0.7297\n",
      "Epoch 17/30\n",
      "133/133 [==============================] - 133s 1s/step - loss: 0.0980 - acc: 0.9662 - val_loss: 1.6047 - val_acc: 0.7166\n",
      "Epoch 18/30\n",
      "133/133 [==============================] - 104s 781ms/step - loss: 0.0918 - acc: 0.9662 - val_loss: 1.1392 - val_acc: 0.7297\n",
      "Epoch 19/30\n",
      "133/133 [==============================] - 102s 766ms/step - loss: 0.0809 - acc: 0.9731 - val_loss: 1.2125 - val_acc: 0.7310\n",
      "Epoch 20/30\n",
      "133/133 [==============================] - 102s 767ms/step - loss: 0.0762 - acc: 0.9774 - val_loss: 1.6840 - val_acc: 0.7139\n",
      "Epoch 21/30\n",
      "133/133 [==============================] - 101s 757ms/step - loss: 0.0586 - acc: 0.9784 - val_loss: 1.7801 - val_acc: 0.7351\n",
      "Epoch 22/30\n",
      "133/133 [==============================] - 100s 755ms/step - loss: 0.0828 - acc: 0.9699 - val_loss: 1.9371 - val_acc: 0.7202\n",
      "Epoch 23/30\n",
      "133/133 [==============================] - 100s 752ms/step - loss: 0.0742 - acc: 0.9756 - val_loss: 1.9706 - val_acc: 0.7315\n",
      "Epoch 24/30\n",
      "133/133 [==============================] - 96s 723ms/step - loss: 0.0830 - acc: 0.9765 - val_loss: 1.8745 - val_acc: 0.7040\n",
      "Epoch 25/30\n",
      "133/133 [==============================] - 103s 777ms/step - loss: 0.0942 - acc: 0.9680 - val_loss: 1.4801 - val_acc: 0.7292\n",
      "Epoch 26/30\n",
      "133/133 [==============================] - 98s 736ms/step - loss: 0.0700 - acc: 0.9760 - val_loss: 1.7839 - val_acc: 0.7378\n",
      "Epoch 27/30\n",
      "133/133 [==============================] - 102s 767ms/step - loss: 0.1094 - acc: 0.9718 - val_loss: 1.4744 - val_acc: 0.7414\n",
      "Epoch 28/30\n",
      "133/133 [==============================] - 102s 769ms/step - loss: 0.1053 - acc: 0.9666 - val_loss: 1.4180 - val_acc: 0.7166\n",
      "Epoch 29/30\n",
      "133/133 [==============================] - 103s 772ms/step - loss: 0.0950 - acc: 0.9723 - val_loss: 1.9216 - val_acc: 0.7225\n",
      "Epoch 30/30\n",
      "133/133 [==============================] - 102s 765ms/step - loss: 0.1187 - acc: 0.9713 - val_loss: 2.1986 - val_acc: 0.7234\n"
     ]
    },
    {
     "data": {
      "text/plain": [
       "<keras.callbacks.History at 0x1cd23241208>"
      ]
     },
     "execution_count": 7,
     "metadata": {},
     "output_type": "execute_result"
    }
   ],
   "source": [
    "\n",
    "nb_validation_samples=2248\n",
    "batch_size=32\n",
    "model.fit_generator(\n",
    "        train,\n",
    "        samples_per_epoch=2131,\n",
    "        nb_epoch=30,\n",
    "        validation_data=valid,\n",
    "        nb_val_samples=nb_validation_samples//batch_size)"
   ]
  },
  {
   "cell_type": "code",
   "execution_count": 13,
   "metadata": {},
   "outputs": [],
   "source": [
    "import cv2"
   ]
  },
  {
   "cell_type": "code",
   "execution_count": 23,
   "metadata": {},
   "outputs": [
    {
     "name": "stdout",
     "output_type": "stream",
     "text": [
      "[[1.]]\n"
     ]
    }
   ],
   "source": [
    "img=cv2.imread(\"test/49.jpg\")\n",
    "img=cv2.resize(img,(150,150))\n",
    "img=img.reshape(1,150,150,3)\n",
    "prediction=model.predict(img)\n",
    "\n",
    "print(prediction)"
   ]
  },
  {
   "cell_type": "code",
   "execution_count": null,
   "metadata": {},
   "outputs": [],
   "source": []
  }
 ],
 "metadata": {
  "kernelspec": {
   "display_name": "Python 3",
   "language": "python",
   "name": "python3"
  },
  "language_info": {
   "codemirror_mode": {
    "name": "ipython",
    "version": 3
   },
   "file_extension": ".py",
   "mimetype": "text/x-python",
   "name": "python",
   "nbconvert_exporter": "python",
   "pygments_lexer": "ipython3",
   "version": "3.6.6"
  }
 },
 "nbformat": 4,
 "nbformat_minor": 2
}
